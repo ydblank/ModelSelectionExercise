# Import necessary libraries
import numpy as np
import pandas as pd
from sklearn.model_selection import train_test_split, GridSearchCV
from sklearn.tree import DecisionTreeClassifier
from sklearn.ensemble import RandomForestClassifier
from sklearn.svm import SVC
from sklearn.metrics import accuracy_score, classification_report

# Load the Iris dataset
# Note: Download the dataset from Kaggle and adjust the path accordingly
iris_data = pd.read_csv('path_to_iris_dataset.csv')

# Separate features and labels
X = iris_data.drop('species', axis=1)
y = iris_data['species']

# Split the dataset into training and testing sets
X_train, X_test, y_train, y_test = train_test_split(X, y, test_size=0.2, random_state=42)

# Task 3: Implement a basic Decision Tree model
dt_model = DecisionTreeClassifier(random_state=42)

# Task 4: Perform hyperparameter tuning using Grid Search Cross-Validation
# Define hyperparameter grid for Decision Tree
param_grid = {
    'criterion': ['gini', 'entropy'],
    'max_depth': [None, 10, 20, 30],
    'min_samples_split': [2, 5, 10],
    'min_samples_leaf': [1, 2, 4]
}

# Create a GridSearchCV object
grid_search = GridSearchCV(estimator=dt_model, param_grid=param_grid, cv=5, scoring='accuracy', n_jobs=-1)

# Fit the model to find the best hyperparameters
grid_search.fit(X_train, y_train)

# Get the best hyperparameters
best_params = grid_search.best_params_

# Task 5: Compare the performance of different models (Add models as needed)
rf_model = RandomForestClassifier(random_state=42)
svm_model = SVC(random_state=42)

# Train models
dt_model.fit(X_train, y_train)
rf_model.fit(X_train, y_train)
svm_model.fit(X_train, y_train)

# Task 6: Evaluate the final model on the test set
# Evaluate Decision Tree
dt_pred = dt_model.predict(X_test)
dt_accuracy = accuracy_score(y_test, dt_pred)

# Evaluate Random Forest
rf_pred = rf_model.predict(X_test)
rf_accuracy = accuracy_score(y_test, rf_pred)

# Evaluate SVM
svm_pred = svm_model.predict(X_test)
svm_accuracy = accuracy_score(y_test, svm_pred)

# Print results
print(f"Decision Tree Accuracy: {dt_accuracy}")
print(f"Random Forest Accuracy: {rf_accuracy}")
print(f"SVM Accuracy: {svm_accuracy}")

# Choose the best model based on accuracy
best_model = None
if dt_accuracy >= rf_accuracy and dt_accuracy >= svm_accuracy:
    best_model = dt_model
elif rf_accuracy >= dt_accuracy and rf_accuracy >= svm_accuracy:
    best_model = rf_model
else:
    best_model = svm_model

# Print the best hyperparameters
print(f"Best Hyperparameters: {best_params}")

# Evaluate the best model on the test set
final_pred = best_model.predict(X_test)
final_accuracy = accuracy_score(y_test, final_pred)
print(f"Final Model Accuracy: {final_accuracy}")

# Additional: Print classification report for the final model
print("Classification Report:")
print(classification_report(y_test, final_pred))
